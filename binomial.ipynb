{
    "cells": [
        {
            "cell_type": "code",
            "execution_count": 18,
            "metadata": {},
            "outputs": [],
            "source": [
                "import numpy as np"
            ]
        },
        {
            "cell_type": "code",
            "execution_count": 37,
            "metadata": {},
            "outputs": [],
            "source": [
                "S0= 100      # initial stock price\n",
                "K = 100       # strike price\n",
                "T = 1         # time to maturity in years\n",
                "r = 0.05      # annual risk-free rate\n",
                "N = 3         # number of time steps\n",
                "u = 1.1       # up-factor in binomial models\n",
                "d = 1/u       # ensure recombining tree\n"
            ]
        },
        {
            "cell_type": "code",
            "execution_count": 38,
            "metadata": {},
            "outputs": [],
            "source": [
                "def binomial_tree(K,T,S0,r,N,u,d,opttype='C'):\n",
                "    #precompute constants\n",
                "    dt = T/N\n",
                "    q = (np.exp(r*dt) - d) / (u-d)\n",
                "    disc = np.exp(-r*dt)\n",
                "    if opttype=='c':\n",
                "    # initialise asset prices at maturity - Time step N\n",
                "        c = S0 * d ** (np.arange(N,-1,-1)) * u ** (np.arange(0,N+1,1))\n",
                "\n",
                "    # initialise option values at maturity\n",
                "        c = np.maximum( c - K , np.zeros(N+1) )\n",
                "   \n",
                "\n",
                "    # step backwards through tree\n",
                "        for i in np.arange(N,0,-1):\n",
                "            c = disc * ( q * c[1:i+1] + (1-q) * c[0:i] )\n",
                "\n",
                "        return c[0]\n",
                "\n",
                "    if opttype=='P':\n",
                "        p = S0 * d ** (np.arange(N,-1,-1)) * u ** (np.arange(0,N+1,1))\n",
                "    \n",
                "        p = np.maximum(K-p, np.zeros(N + 1))\n",
                "        # Step backwards through tree\n",
                "        for i in np.arange(N, 0, -1):\n",
                "            p = disc * (q * p[1:i + 1] + (1 - q) * p[0:i])\n",
                "\n",
                "        return p[0]\n",
                "\n"
            ]
        },
        {
            "cell_type": "code",
            "execution_count": 39,
            "metadata": {},
            "outputs": [
                {
                    "data": {
                        "text/plain": [
                            "4.73727527375481"
                        ]
                    },
                    "execution_count": 39,
                    "metadata": {},
                    "output_type": "execute_result"
                }
            ],
            "source": [
                "binomial_tree(K,T,S0,r,N,u,d,opttype='P')"
            ]
        },
        {
            "cell_type": "code",
            "execution_count": null,
            "metadata": {},
            "outputs": [],
            "source": []
        }
    ],
    "metadata": {
        "kernelspec": {
            "display_name": "Python 3",
            "language": "python",
            "name": "python3"
        },
        "language_info": {
            "codemirror_mode": {
                "name": "ipython",
                "version": 3
            },
            "file_extension": ".py",
            "mimetype": "text/x-python",
            "name": "python",
            "nbconvert_exporter": "python",
            "pygments_lexer": "ipython3",
            "version": "3.12.4"
        }
    },
    "nbformat": 4,
    "nbformat_minor": 2
}
